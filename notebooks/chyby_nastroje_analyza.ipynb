
import pandas as pd
import matplotlib.pyplot as plt

# Načítanie dát
df = pd.read_csv('analysis_results.csv')

# Základné spočítanie chýb nástrojmi
errors_by_tool = df.groupby('nastroj')['pocet_chyb'].sum().reset_index()

# Doplnenie manuálnych údajov pre SonarQube a DeepSource
additional_tools = pd.DataFrame({
    'nastroj': ['SonarQube', 'DeepSource'],
    'pocet_chyb': [158, 210]  # údaje zadané užívateľom
})

# Spojenie oboch DataFrames
errors_combined = pd.concat([errors_by_tool, additional_tools], ignore_index=True)

# Vizualizácia údajov
plt.figure(figsize=(10,6))
plt.bar(errors_combined['nastroj'], errors_combined['pocet_chyb'], color='skyblue')
plt.title('Počet chýb zaznamenaných jednotlivými nástrojmi')
plt.xlabel('Nástroj')
plt.ylabel('Počet chýb')
plt.grid(axis='y', linestyle='--')

# Zobrazenie počtu chýb nad stĺpcami
for i, v in enumerate(additional_tools['pocet_chyb']):
    plt.text(i + len(additional_tools), v + 3, str(v), ha='center', va='bottom', fontsize=10)

for i, v in enumerate(df.groupby('nastroj')['pocet_chyb'].sum()):
    plt.text(i, v + 5, str(v), ha='center', va='bottom')

plt.tight_layout()
plt.show()
